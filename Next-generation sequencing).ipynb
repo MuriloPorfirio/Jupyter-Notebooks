{
 "cells": [
  {
   "cell_type": "markdown",
   "metadata": {
    "vscode": {
     "languageId": "latex"
    }
   },
   "source": [
    "<div style=\"text-align: center;\"> \n",
    "\n",
    "# **Next-generation sequencing** (12th August 2024)\n",
    "\n",
    "</h1> </div>\n",
    "\n"
   ]
  },
  {
   "cell_type": "markdown",
   "metadata": {},
   "source": [
    "This is my second Jupyter Notebook, where I intend to explain how Next-generation sequencing (NGS) works as a laboratory technique. In future notebooks, I will explain how to process the resulting files, called FASTQ.\n",
    "\n",
    "Unlike traditional sequencing methods, which analyze DNA sequences one at a time, NGS processes millions of sequences simultaneously, making it highly efficient and cost-effective.\n",
    "\n",
    "NGS is a category of laboratory techniques, which means that <span style=\"color: yellow;\">**there are different ways to perform NGS**</span>. The main methodologies are as follows:\n",
    "\n",
    "<span style=\"color: yellow;\">**Illumina (Sequencing by Synthesis - SBS):** </span> Briefly, extracted DNA is fragmented and subjected to what we call adapters, which are molecules that attach to the ends of each DNA fragment. After preparing this solution, the sample is introduced into a flow cell, a surface with thousands of fixed oligonucleotides designed to bind to the adapters on each fragment. In the flow cell, bridge amplification occurs, where DNA fragments are copied multiple times, creating clusters of identical DNA. During the synthesis of new copies, nucleotides labeled with fluorophores are incorporated, and the light emission from each incorporation is detected by the Illumina NGS machine, allowing the DNA sequence to be read.\n",
    "\n",
    "<span style=\"color: yellow;\"> **Oxford Nanopore (Nanopore Sequencing):**</span> The Nanopore technique is quite different from Illumina and very interesting: The DNA samples used in this technique do not necessarily need to be fragmented, but they still need to be prepared with adapters and motor proteins, which bind to the ends of the DNA strand. The adapters ensure that the end of the DNA correctly attaches to the motor proteins. After preparing the samples, the DNA is placed in a flow cell, where the DNA strands are guided into the nanopores by the action of the motor proteins. These proteins unwind the DNA strand and guide it through the nanopore, one nucleotide at a time. As each nucleotide passes through the nanopore, it causes a specific change in the electrical current, allowing the machine to identify the DNA sequence based on the characteristic electrical patterns of each nucleotide.\n",
    "\n",
    "<span style=\"color: yellow;\"> **Ion Torrent (Semiconductor Sequencing - by ThermoFisher):** </span> In summary, in this technique, the extracted DNA samples are treated to come into contact with adapters. These adapted DNA fragments are then introduced into a solution with beads (spheres), which allow only a single DNA fragment to attach to each one. The beads, now with attached DNA fragments, undergo an emulsion PCR amplification process, creating thousands of identical copies of each fragment around each bead. These beads are then introduced into a chip (it is not common to call it a flow cell). This chip contains hundreds of wells, each capable of holding a single bead. After the beads are seated in the wells, the chip is placed in the ThermoFisher machine, which introduces a solution containing a single type of nucleotide into all the wells simultaneously. When a nucleotide, such as adenine, binds to a complementary thymine on the DNA fragment attached to the bead, a hydrogen ion is released, changing the pH of the solution surrounding the bead. This pH change is detected by the machine, identifying the presence of the complementary nucleotide. The process is repeated for each type of nucleotide, allowing the complete genotyping of the sample."
   ]
  },
  {
   "cell_type": "markdown",
   "metadata": {},
   "source": [
    "##Após o sequenciamento\n",
    "\n",
    "Todas essas três técnicas descritas geram um arquivo chamado FASTQ. Se trata de um arquivo de texto que organiza o DNA do paciente da seguinte forma: Cada sequência de DNA identificada, ou cada fragmento, terá 4 linhas destinadas a ele: A primeira linha começa com \"@\", e terá informações como: Read Number (paired-end), Número do Cluster (localização no flow cell), Número do Ciclo de Sequenciamento (ciclo de leitura), Informações da Amostra (barcode), Informações Técnicas (lane, tile, coordenadas). \n",
    "\n",
    "Em outras palavras, em um contexto que faremos uma cobertura alvo de \"450x\", teremos 450 \"entradas\" de um mesmo fragmento especifico, onde cada entrada terá 450 linhas. E a primeira linha nunca será idêntica a nenhuma outra. \n",
    "\n",
    "A segunda linha, finalmente, é onde estará então o sequenciamento dos nucleotídeos (A, T, C, G), essa se estendendo ao longo do arquivo quase que infinitamente.\n",
    "\n",
    "A terceira linha, na maioria das vezes estará em branco, com apenas o sinal \"+\" obrigatoriamente. Em casos mais incomuns, além do sinal de \"+\", há também a repetição das informções da linha 1. Teoricamente é uma linha apenas para separar as informações do sequenciamento (linha 2) das informações de controle de qualidade (linha 4).\n",
    "\n",
    "A quarta e última linha é relacionada ao controle de qualidade, onde, para cada nucleotideo da linha 2, haverá um simbolo correspondente na linha 4 para expressao a chance em % de que aquele nucleotideo foi lido com precisao. Esses caracteres da linha do controle de qualidade são chamados de \"símbolos ASCII\", e cada um representa uma % de precisão. Segue a lista:\n",
    "\n",
    "Caractere ASCII\tPrecisão (%)\n",
    "!\t0%\n",
    "\"\t50%\n",
    "#\t63%\n",
    "$\t75%\n",
    "%\t80%\n",
    "&\t84%\n",
    "'\t88%\n",
    "(\t90%\n",
    ")\t94%\n",
    "*\t95%\n",
    "+\t90%\n",
    ",\t92.1%\n",
    "-\t93.7%\n",
    ".\t95%\n",
    "/\t96%\n",
    "0\t96.8%\n",
    "1\t97.4%\n",
    "2\t98%\n",
    "3\t98.4%\n",
    "4\t98.7%\n",
    "5\t99%\n",
    "6\t99.2%\n",
    "7\t99.4%\n",
    "8\t99.5%\n",
    "9\t99.6%\n",
    ":\t99.7%\n",
    ";\t99.75%\n",
    "<\t99.8%\n",
    "=\t99.84%\n",
    ">\t99.87%\n",
    "?\t99.9%\n",
    "@\t99.92%\n",
    "A\t99.937%\n",
    "B\t99.95%\n",
    "C\t99.96%\n",
    "D\t99.97%\n",
    "E\t99.975%\n",
    "F\t99.98%\n",
    "G\t99.984%\n",
    "H\t99.987%\n",
    "I\t99.99%\n"
   ]
  }
 ],
 "metadata": {
  "language_info": {
   "name": "python"
  }
 },
 "nbformat": 4,
 "nbformat_minor": 2
}
