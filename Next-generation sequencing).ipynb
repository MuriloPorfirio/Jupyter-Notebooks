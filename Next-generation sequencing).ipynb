{
 "cells": [
  {
   "cell_type": "markdown",
   "metadata": {
    "vscode": {
     "languageId": "latex"
    }
   },
   "source": [
    "<div style=\"text-align: center;\"> \n",
    "\n",
    "# **Next-generation sequencing** (12th August 2024)\n",
    "\n",
    "</h1> </div>\n",
    "\n"
   ]
  },
  {
   "cell_type": "markdown",
   "metadata": {},
   "source": [
    "This is my second Jupyter Notebook, I intent to explain how Next-generation sequencing (NGS) works as a laboratory technic, and then, create next notebooks to explain how to proceed with the files, called FASTQ.\n",
    "\n",
    "Unlike traditional sequencing methods, which analyze DNA sequences one at a time, NGS processes millions of sequences simultaneously, making it highly efficient and cost-effective. \n",
    "\n",
    "NGS é uma categoria de tecnicas de laboratório, por isso é possível fazer NGS de diferentes formas. As principais metodologias são as seguintes:\n",
    "\n",
    "Illumina (Sequencing by Synthesis - SBS): Resumidamente, o DNA extraído é fragmentado e submetido ao que chamamos de adaptadores, que são moléculas que se ligam às pontas de cada fragmento de DNA. Depois que preparamos essa solução, introduzimos a amostra no flow cell, uma superfície com milhares de oligonucleotídeos fixados, projetados para se ligarem aos adaptadores de cada fragmento. No flow cell, ocorre a amplificação por ponte (bridge amplification), onde os fragmentos de DNA são copiados várias vezes, criando clusters de DNA idêntico. Durante a síntese de novas cópias, nucleotídeos marcados com fluoróforos são incorporados, e a emissão de luz a cada incorporação é detectada pela máquina de NGS Illumina, permitindo a leitura da sequência de DNA.\n",
    "\n",
    "![Descrição do GIF](https://i.makeagif.com/media/9-16-2023/bKcinm.mp4)\n",
    "\n",
    "Oxford Nanopore (Nanopore Sequencing): Resumidamente, a técnica de Nanopore é bem diferente da Illumina e muito interessante: As amostras de DNA que passam por esta técnica não precisam ser necessariamente fragmentadas, mas também precisam ser preparadas com adaptadores e proteínas motoras, que se ligam às extremidades da fita de DNA. Os adaptadores garantem que a ponta do DNA se ligue corretamente às proteínas motoras. Após o preparo das amostras, o DNA é colocado em uma flow cell, onde as fitas de DNA são guiadas para dentro dos nanopores pela ação das proteínas motoras. Estas proteínas desenrolam a fita de DNA e a conduzem pelo nanoporo, um nucleotídeo de cada vez. Conforme cada nucleotídeo passa pelo nanoporo, ele causa uma mudança específica na corrente elétrica, permitindo que a máquina identifique a sequência de DNA com base nos padrões elétricos característicos de cada nucleotídeo.\n",
    "\n",
    "Ion Torrent (Semiconductor Sequencing):"
   ]
  },
  {
   "cell_type": "markdown",
   "metadata": {},
   "source": []
  }
 ],
 "metadata": {
  "language_info": {
   "name": "python"
  }
 },
 "nbformat": 4,
 "nbformat_minor": 2
}
