{
 "cells": [
  {
   "cell_type": "markdown",
   "metadata": {},
   "source": [
    "The **GATK** was developed to provide tools for variant analysis. Therefore, it does not perform the alignment of a FASTQ file; for this, we need to use the **BWA** tool on the FASTQ file that we have.\n",
    "\n",
    "The **Burrows-Wheeler Aligner** is a tool that can be installed on **Ubuntu**. To check if it is already installed, simply type:\n",
    "\n",
    "```bash\n",
    "bwa\n"
   ]
  },
  {
   "cell_type": "markdown",
   "metadata": {},
   "source": [
    "If it’s not installed and we want to install it, we can use the following commands:\n",
    "\n",
    "```bash\n",
    "sudo apt update\n",
    "sudo apt install bwa\n"
   ]
  },
  {
   "cell_type": "markdown",
   "metadata": {},
   "source": [
    "**Tip:** It’s generally a good idea to perform everything via command lines in the **Linux shell**. However, if your file is on **Windows**, such as in a folder on the desktop, you can transfer this file to the Linux partition or even make a copy — all interactively, without necessarily using command lines.\n",
    "\n",
    "To access Linux folders from Windows, simply open any Windows folder and type the following in the address bar:\n",
    "\n",
    "```plaintext\n",
    "\\\\wsl$"
   ]
  },
  {
   "cell_type": "markdown",
   "metadata": {},
   "source": [
    "You will be directed to the Ubuntu folder, where you can find all the directories you have on Linux. This way, you can visually and interactively locate the folder where you want to place the FASTQ file."
   ]
  },
  {
   "cell_type": "markdown",
   "metadata": {},
   "source": [
    "From here, we can return to **Ubuntu**, switch to the command line, and navigate to the directory where our **FASTQ file** is located. Another important note is that to use **BWA**, we need a reference genome in the **.fasta** format.\n",
    "\n",
    "To download one of the main reference genomes, you can use the following command:\n",
    "\n",
    "```bash\n",
    "wget ftp://ftp.ensembl.org/pub/release-104/fasta/homo_sapiens/dna/Homo_sapiens.GRCh38.dna.primary_assembly.fa.gz\n"
   ]
  },
  {
   "cell_type": "markdown",
   "metadata": {},
   "source": [
    "With the reference file and the **FASTQ** file in the same folder (where we should also be positioned), we can proceed with the first **BWA** command.\n",
    "\n",
    "Before we apply **BWA**, however, we need to perform what’s called **\"indexing the reference genome\"**. This involves running a command that instructs **BWA** to create multiple smaller files from the reference file. This indexing process significantly speeds up the alignment, as it allows the tool to work with smaller segments of the file at a time instead of scanning through the entire file. \n",
    "\n",
    "For each reference genome, you only need to apply the following command once:\n",
    "\n",
    "```bash\n",
    "bwa index Reference_File_Name\n"
   ]
  },
  {
   "cell_type": "markdown",
   "metadata": {},
   "source": [
    "<span style=\"color:red;\">**ATTENTION:**</span> <span style=\"color:red;\">This process can take a while, depending on your computer's performance. It also generates additional large files, between **5–7 GB**, so be prepared for the extra storage requirements.</span>\n"
   ]
  }
 ],
 "metadata": {
  "language_info": {
   "name": "python"
  }
 },
 "nbformat": 4,
 "nbformat_minor": 2
}
