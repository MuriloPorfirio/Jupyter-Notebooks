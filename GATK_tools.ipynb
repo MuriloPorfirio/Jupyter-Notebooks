{
 "cells": [
  {
   "cell_type": "markdown",
   "metadata": {},
   "source": [
    "O GATK ele foi desenvolvido para fornecer ferramentas para análise de variantes. \n",
    "Por isso ele não faz o alinhamento de um arquivo FASTQ, para isso nós temos que utilizar a ferramenta BWA no arquivo FASTQ que possuirmos. \n",
    "\n",
    "o Borrow wheeler aligners é uma ferramenta passivel de ser instalada no ubuntu, para verificarmos se já temos essa basta digitarmos \"bwa\". \n",
    "\n",
    "Caso não tenha e queremos instala-la, colocamos o comando: \n",
    "\n",
    "sudo apt update\n",
    "sudo apt install bwa\n",
    "\n",
    "Uma dica: acho interessante fazermos tudo em linhas de comando, pelo shell do linux, então caso seu arquivo esteja no windows, como por exemplo em uma pasta do desktop, voce pode levar esse arquivo para a repartição linux ou até mesmo fazendo uma cópia, tudo de forma interativa, sem necessariamente por linhas de comando.\n",
    "\n",
    "para acessar as pastas do linux no windows, basta entrar em uma pasta qualquer do windows e no endereço você coloca \"\\\\wsl$\", você será direcionado para a basta do ubuntu, que, inclusive, dentro está tds as pastas que você possui no linux. Dessa forma você pode, visualmente e interativamenter, procurar a pasta que você colocar o arquivo fastq. \n",
    "\n",
    "A partir dai podemos voltar para o ubuntu, para as linhas de comando, e nos posicionarmos no diretorio que está nosso arquivo fastq. Outra coisa importante é que para utilizarmos o BWA precisamos de um gene de referencia que precisa estar no formato .fasta.\n",
    "\n",
    "Para baixar uma dos principais genes de referencia, você pode usar o comando abaixo:\n",
    "\n",
    "wget ftp://ftp.ensembl.org/pub/release-104/fasta/homo_sapiens/dna/Homo_sapiens.GRCh38.dna.primary_assembly.fa.gz\n",
    "\n",
    "Estando o arquivo de referencia e o fastq na mesma pasta, onde nós também devemos estar, podemos aplicar o primeiro comando do bwa.\n",
    "\n",
    "Agora antes de aplicarmos o BWA, há a necessidade de fazermos o que chamamos de \"indexar o genoma de referência\", que seria aplicar um comando para a ferramenta BWA fazer vários outros arquivos menores a partir do arquivo de referencia. Isso serve para acelerar extremamente o processo de alinhamento, pois ele consegue lidar com um arquivo menor de cada vez, sem ter que ficar explorando o arquivo completo. Para cada genoma de referencia, é necessário aplicar o comando abaixo apenas uma vez: \n",
    "\n",
    "bwa index Nome_do_arquivo\n",
    "\n",
    "ATENÇÂO: Esse processo pode levar tempo, dependendo do computador. E ele gera mais arquivos pesados, entre 5~7G, então esteja preparado.\n",
    "\n",
    "\n",
    "\n"
   ]
  },
  {
   "cell_type": "markdown",
   "metadata": {},
   "source": [
    "The **GATK** was developed to provide tools for variant analysis. Therefore, it does not perform the alignment of a FASTQ file; for this, we need to use the **BWA** tool on the FASTQ file that we have.\n",
    "\n",
    "The **Burrows-Wheeler Aligner** is a tool that can be installed on **Ubuntu**. To check if it is already installed, simply type:\n",
    "\n",
    "```bash\n",
    "bwa\n"
   ]
  },
  {
   "cell_type": "markdown",
   "metadata": {},
   "source": [
    "If it’s not installed and we want to install it, we can use the following commands:\n",
    "\n",
    "```bash\n",
    "sudo apt update\n",
    "sudo apt install bwa\n"
   ]
  },
  {
   "cell_type": "markdown",
   "metadata": {},
   "source": [
    "**Tip:** It’s generally a good idea to perform everything via command lines in the **Linux shell**. However, if your file is on **Windows**, such as in a folder on the desktop, you can transfer this file to the Linux partition or even make a copy — all interactively, without necessarily using command lines.\n",
    "\n",
    "To access Linux folders from Windows, simply open any Windows folder and type the following in the address bar:\n",
    "\n",
    "```plaintext\n",
    "\\\\wsl$"
   ]
  },
  {
   "cell_type": "markdown",
   "metadata": {},
   "source": [
    "You will be directed to the Ubuntu folder, where you can find all the directories you have on Linux. This way, you can visually and interactively locate the folder where you want to place the FASTQ file."
   ]
  },
  {
   "cell_type": "markdown",
   "metadata": {},
   "source": [
    "From here, we can return to **Ubuntu**, switch to the command line, and navigate to the directory where our **FASTQ file** is located. Another important note is that to use **BWA**, we need a reference genome in the **.fasta** format.\n",
    "\n",
    "To download one of the main reference genomes, you can use the following command:\n",
    "\n",
    "```bash\n",
    "wget ftp://ftp.ensembl.org/pub/release-104/fasta/homo_sapiens/dna/Homo_sapiens.GRCh38.dna.primary_assembly.fa.gz\n"
   ]
  },
  {
   "cell_type": "markdown",
   "metadata": {},
   "source": [
    "With the reference file and the **FASTQ** file in the same folder (where we should also be positioned), we can proceed with the first **BWA** command.\n",
    "\n",
    "Before we apply **BWA**, however, we need to perform what’s called **\"indexing the reference genome\"**. This involves running a command that instructs **BWA** to create multiple smaller files from the reference file. This indexing process significantly speeds up the alignment, as it allows the tool to work with smaller segments of the file at a time instead of scanning through the entire file. \n",
    "\n",
    "For each reference genome, you only need to apply the following command once:\n",
    "\n",
    "```bash\n",
    "bwa index Reference_File_Name\n"
   ]
  },
  {
   "cell_type": "markdown",
   "metadata": {},
   "source": [
    "<span style=\"color:red;\">**ATTENTION:**</span> <span style=\"color:red;\">This process can take a while, depending on your computer's performance. It also generates additional large files, between **5–7 GB**, so be prepared for the extra storage requirements.</span>\n"
   ]
  }
 ],
 "metadata": {
  "language_info": {
   "name": "python"
  }
 },
 "nbformat": 4,
 "nbformat_minor": 2
}
