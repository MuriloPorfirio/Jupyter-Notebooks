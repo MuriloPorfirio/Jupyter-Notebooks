{
 "cells": [
  {
   "cell_type": "markdown",
   "metadata": {},
   "source": [
    "<div style=\"text-align: center;\">\n",
    "\n",
    "# <span style=\"color: orange;\">I</span>llumina BaseSpace (August 26th 2024)\n",
    "\n",
    "</h1> </div>\n",
    "\n",
    "Illumina BaseSpace is an online platform designed to support users who work with .BCL files, which are generated from Illumina's next-generation sequencing (NGS) technology. The platform allows users to access and analyze data from sequencing services they have contracted through Illumina. Additionally, BaseSpace offers access to a variety of 'Apps,' which are tools that can be applied to NGS data. These Apps can be used on files already uploaded to the platform or uploaded directly from your computer or an online server. BaseSpace hosts numerous Apps, some of which are specifically designed to process .BCL files, while others are intended for .FASTQ, .VCF, and various other file types.\n",
    "\n",
    "If you are working with a .BCL file, the first step is to use one of the three apps below to perform demultiplexing and convert the data into a FASTQ file. Below is an explanation of the differences between each of them."
   ]
  },
  {
   "cell_type": "markdown",
   "metadata": {},
   "source": [
    "<a href=\"https://ibb.co/6R6ZPNW\"><img src=\"https://i.ibb.co/jv75MHr/12321.png\" alt=\"12321\" border=\"0\" /></a>"
   ]
  },
  {
   "cell_type": "markdown",
   "metadata": {},
   "source": [
    "The first two options are quite similar, with nearly identical names, both called <span style=\"color: yellow;\">**'BCL Convert.'**</span> However, one has <span style=\"color: yellow;\">**'Early Access'**</span> in front of its name.\n",
    "\n",
    "Before explaining the difference between them, an important detail must be mentioned: During Illumina NGS, not only are BCL files generated, but a <span style=\"color: yellow;\">**CSV file**</span> is also produced. This CSV file must always be placed alongside its corresponding BCL file, as it is essential for the correct conversion of BCL to FASTQ. <span style=\"color: yellow;\">**The CSV file can have two different formats: V1 and V2.**</span>\n",
    "\n",
    "One of the key differences in choosing between the two apps is which format of the CSV is supported, V1 or V2. The app labeled '(Early Access)' supports only V2, while the other app, simply called BCL Convert, supports both V1 and V2. To determine which CSV format you have, it is recommended to check the Illumina device used and how it was configured. If you're unsure, use BCL Convert, as it can handle both V1 and V2.\n",
    "\n",
    "Another difference between them concerns the instrument that performed the NGS. The first app, the one without '(Early Access),' covers more devices, making it the preferred choice.\n",
    "\n",
    "In summary, <span style=\"color: yellow;\">**it is recommended to use 'BCL Convert'**</span> because it can handle both V1 and V2 CSV files and supports a wider range of instruments than the other option.\n",
    "\n",
    "As for the third app, called <span style=\"color: yellow;\">**'BCL Convert for ICA (Beta),'**</span> it is designed to interact with <span style=\"color: yellow;\">**Illumina Connected Analytics (ICA)**</span>, which is an Illumina platform with similar functionalities to BaseSpace but with much greater accessibility for bioinformatics applications by users, such as command-line interfaces, thereby offering more freedom and allowing for more complex and customized analyses.\n",
    "\n"
   ]
  },
  {
   "cell_type": "markdown",
   "metadata": {},
   "source": [
    "<a href=\"https://ibb.co/G9TMSn6\"><img src=\"https://i.ibb.co/NrSNBtv/44.jpg\" alt=\"44\" border=\"0\" /></a>"
   ]
  },
  {
   "cell_type": "markdown",
   "metadata": {},
   "source": [
    "(August 27th 2024)\n",
    "\n",
    "The next step is to **align the data from your FASTQ file with a reference genome**. For this, you can use the app shown in the image above, called <span style=\"color: yellow;\">**BWA Aligner**</span>, available on Illumina BaseSpace. However, it's important to note that these tools are not free; they consume what we call <span style=\"color: yellow;\">**iCredits**</span>, as highlighted in red in the image above. You can obtain iCredits by purchasing them with dollars or by earning them when you create a new account on Illumina BaseSpace. **You receive 250 free iCredits when you create a new account**, but **these credits expire after 30 days if not used**.\n",
    "\n",
    "After clicking 'launch application,' you will need to configure the app. The configuration sequence is as follows:\n",
    "\n",
    "Steps:\n",
    "\n",
    "1- First, you will be given the following options:\n",
    "\n",
    "\"**Biosamples - Launch with FASTQs across multiple sequencing runs**\" and \"**Samples - Launch with FASTQs from a single sequencing run**\"\n",
    "\n",
    "The correct choice will depend on whether the FASTQ files you intend to use were generated from the same NGS run or if, for example, you ran the same sample multiple times at different moments. If all the files you have come from the same analysis, then select the latter option, 'Samples - Launch with FASTQs from a single sequencing run.' Remember, **this is not related to coverage area**, so don't confuse it.\n",
    "\n",
    "Next, you can name the file, choose the reference genome, or provide a custom reference genome. In this case, **you must provide a FASTA file of this custom genome and upload the FASTQ file**.\n",
    "\n",
    "However, I noticed that with this app, it is not possible to upload the file if it is on your computer or in an external cloud service. When you request to import the file, the app opens a window for you to select the file that is already in Illumina’s history, meaning <span style=\"color: red;\">**you must have performed the NGS using Illumina’s service**</span>. For now, **I’m not sure if it’s really possible to upload FASTQ files from other sources**, as I mentioned earlier.\n",
    "\n",
    "**But there is good news:<span style=\"color: green;\"> Illumina BaseSpace allows you to familiarize yourself with the use of apps by using their own NGS files, which are available in the</span> <span style=\"color: yellow;\">'Demo data'</span> <span style=\"color: green;\"> section.**</span>\n",
    "\n",
    "<a href=\"https://ibb.co/RPX9X7G\"><img src=\"https://i.ibb.co/5vQ6Q2X/sssssss.jpg\" alt=\"sssssss\" border=\"0\" /></a>\n",
    "\n",
    "You will be redirected to a page where you can choose from various NGS files, ranging from whole genome sequences to exomes and even bacterial genomes. But remember: it is likely that the file you selected is a BCL file, so you should start with the previous step by using the BCL Converter app.\n",
    "\n",
    "<a href=\"https://ibb.co/gtDrqQw\"><img src=\"https://i.ibb.co/8PjmvG2/yyyy.jpg\" alt=\"yyyy\" border=\"0\" /></a>\n",
    "\n",
    "Above is an example of how the page appears when converting a BCL file to FASTQ using the BCL Converter app.\n",
    "\n",
    "After a few hours, the converted files will be automatically incorporated into your account files. Thus, when you attempt to apply the BWA aligner, options will appear regarding which files you wish to apply the app to, including all files resulting from the first app you used in the Demo Data."
   ]
  },
  {
   "cell_type": "markdown",
   "metadata": {},
   "source": []
  }
 ],
 "metadata": {
  "language_info": {
   "name": "python"
  }
 },
 "nbformat": 4,
 "nbformat_minor": 2
}
