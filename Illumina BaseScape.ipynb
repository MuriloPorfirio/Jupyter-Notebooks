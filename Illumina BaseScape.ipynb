{
 "cells": [
  {
   "cell_type": "markdown",
   "metadata": {},
   "source": [
    "<div style=\"text-align: center;\">\n",
    "\n",
    "# <span style=\"color: orange;\">I</span>llumina BaseSpace\n",
    "\n",
    "</h1> </div>\n",
    "\n",
    "Illumina BaseSpace is an online platform designed to support users who work with .BCL files, which are generated from Illumina's next-generation sequencing (NGS) technology. The platform allows users to access and analyze data from sequencing services they have contracted through Illumina. Additionally, BaseSpace offers access to a variety of 'Apps,' which are tools that can be applied to NGS data. These Apps can be used on files already uploaded to the platform or uploaded directly from your computer or an online server. BaseSpace hosts numerous Apps, some of which are specifically designed to process .BCL files, while others are intended for .FASTQ, .VCF, and various other file types.\n",
    "\n",
    "If you are working with a .BCL file, the first step is to use one of the three apps below to perform demultiplexing and convert the data into a FASTQ file. Below is an explanation of the differences between each of them."
   ]
  },
  {
   "cell_type": "markdown",
   "metadata": {},
   "source": [
    "<a href=\"https://ibb.co/6R6ZPNW\"><img src=\"https://i.ibb.co/jv75MHr/12321.png\" alt=\"12321\" border=\"0\" /></a>"
   ]
  },
  {
   "cell_type": "markdown",
   "metadata": {},
   "source": [
    "The first two options are quite similar, with nearly identical names, both called <span style=\"color: yellow;\">**'BCL Convert.'**</span> However, one has <span style=\"color: yellow;\">**'Early Access'**</span> in front of its name.\n",
    "\n",
    "Before explaining the difference between them, an important detail must be mentioned: During Illumina NGS, not only are BCL files generated, but a <span style=\"color: yellow;\">**CSV file**</span> is also produced. This CSV file must always be placed alongside its corresponding BCL file, as it is essential for the correct conversion of BCL to FASTQ. <span style=\"color: yellow;\">**The CSV file can have two different formats: V1 and V2.**</span>\n",
    "\n",
    "One of the key differences in choosing between the two apps is which format of the CSV is supported, V1 or V2. The app labeled '(Early Access)' supports only V2, while the other app, simply called BCL Convert, supports both V1 and V2. To determine which CSV format you have, it is recommended to check the Illumina device used and how it was configured. If you're unsure, use BCL Convert, as it can handle both V1 and V2.\n",
    "\n",
    "Another difference between them concerns the instrument that performed the NGS. The first app, the one without '(Early Access),' covers more devices, making it the preferred choice.\n",
    "\n",
    "In summary, <span style=\"color: yellow;\">**it is recommended to use 'BCL Convert'**</span> because it can handle both V1 and V2 CSV files and supports a wider range of instruments than the other option.\n",
    "\n",
    "As for the third app, called <span style=\"color: yellow;\">**'BCL Convert for ICA (Beta),'**</span> it is designed to interact with <span style=\"color: yellow;\">**Illumina Connected Analytics (ICA)**</span>, which is an Illumina platform with similar functionalities to BaseSpace but with much greater accessibility for bioinformatics applications by users, such as command-line interfaces, thereby offering more freedom and allowing for more complex and customized analyses.\n",
    "\n"
   ]
  },
  {
   "cell_type": "markdown",
   "metadata": {},
   "source": []
  }
 ],
 "metadata": {
  "language_info": {
   "name": "python"
  }
 },
 "nbformat": 4,
 "nbformat_minor": 2
}
