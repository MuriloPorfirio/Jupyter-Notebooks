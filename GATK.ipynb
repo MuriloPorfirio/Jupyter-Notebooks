{
 "cells": [
  {
   "cell_type": "markdown",
   "metadata": {},
   "source": [
    "![GATK Logo](https://gatk.broadinstitute.org/hc/theming_assets/01HZPKW49MR2MNGABV15G08EYE)\n",
    "\n",
    "\n",
    "# Requirements: Ubuntu\n",
    "\n",
    "## Step 1: Set Up the PATH to Access `sudo`\n",
    "\n",
    "### **What is this, and why is it important?**\n",
    "\n",
    "The `sudo` command allows you to run commands as an administrator in **bash**, the command language used by **Ubuntu**. \n",
    "\n",
    "When we use `sudo`, it executes the following command with elevated privileges. \n",
    "\n",
    "However, for `sudo` to work, **Ubuntu** needs to know where to find it. By default, essential commands like `sudo` are located in the `bin` directory.\n",
    "\n",
    "<span style=\"color:yellow\">**This step ensures the system knows where `sudo` is located, which is necessary to install tools like GATK.**</span>\n",
    "\n",
    "---\n",
    "\n",
    "<span style=\"color:red\">**Warning:**</span> The `export` function here \"exports\" this `PATH` configuration, making it available not only in the current shell but also to any program or command run from it.\n",
    "\n",
    "```bash\n",
    "export PATH=$PATH:/bin:/usr/bin\n"
   ]
  },
  {
   "cell_type": "markdown",
   "metadata": {},
   "source": [
    "## Step 2: Install or Update Ubuntu Packages\n",
    "\n",
    "### **What is this, and why is it important?**\n",
    "\n",
    "This command will download and update several packages, which are essential libraries and tools for Ubuntu’s functionality.\n",
    "\n",
    "Keeping these packages up-to-date is crucial to ensure stability, security, and compatibility with new tools.\n",
    "\n",
    "<span style=\"color:yellow\">**This step is required to maintain an updated environment, ready to support tools like GATK and others.**</span>\n",
    "\n",
    "---\n",
    "\n",
    "<span style=\"color:red\">**Warning:**</span> Running this command will update multiple system packages. This may take a few minutes, depending on your internet connection and the number of packages requiring updates.\n",
    "\n",
    "```bash\n",
    "sudo apt update\n"
   ]
  },
  {
   "cell_type": "markdown",
   "metadata": {},
   "source": [
    "## Code Details\n",
    "\n",
    "### **Understanding Each Part of the Command**\n",
    "\n",
    "- **`sudo`**: Executes the command with administrator privileges, which is necessary to make system-wide changes, such as updating package information.\n",
    "\n",
    "- **`apt`**: The package manager for Debian and Ubuntu, responsible for installing, updating, and removing software. `apt` accesses repositories, which are servers that store software packages.\n",
    "\n",
    "- **`update`**: This specific parameter instructs `apt` to check the repositories and download the latest list of available packages and their versions.\n"
   ]
  },
  {
   "cell_type": "markdown",
   "metadata": {},
   "source": [
    "## Step 3: Install the Latest Java Runtime Environment (JRE)\n",
    "\n",
    "### **What is this, and why is it important?**\n",
    "\n",
    "Java is a core dependency for many applications and tools, including those used in data processing and bioinformatics. Installing Java ensures that these applications can run smoothly.\n",
    "\n",
    "<span style=\"color:yellow\">**This step installs the Java Runtime Environment, which is essential for tools that rely on Java.**</span>\n",
    "\n",
    "---\n",
    "\n",
    "<span style=\"color:red\">**Note:**</span> You may be prompted to enter your administrator password during installation.\n",
    "\n",
    "To install Java, use the following command:\n",
    "\n",
    "```bash\n",
    "sudo apt install openjdk-8-jre"
   ]
  },
  {
   "cell_type": "markdown",
   "metadata": {},
   "source": [
    "To confirm that Java was installed successfully, use the following command:\n",
    "\n",
    "```bash\n",
    "java -version"
   ]
  },
  {
   "cell_type": "markdown",
   "metadata": {},
   "source": [
    "## Step 4: Install Python 3\n",
    "\n",
    "### **What is this, and why is it important?**\n",
    "\n",
    "Even if Python is already installed, it may be necessary to repeat this step to ensure compatibility with the latest software requirements.\n",
    "\n",
    "<span style=\"color:yellow\">**This step installs Python 3, which is essential for many applications and scripts.**</span>\n",
    "\n",
    "---\n",
    "\n",
    "To install Python 3 (if it's not already installed), use the following command:\n",
    "\n",
    "```bash\n",
    "sudo apt install python3\n"
   ]
  },
  {
   "cell_type": "markdown",
   "metadata": {},
   "source": [
    "What if Python 3 is Installed but Not Recognized?\n",
    "\n",
    "If you already have Python 3 but encounter issues moving to the next step, try this command:\n",
    "\n",
    "```bash\n",
    "sudo ln -s /usr/bin/python3 /usr/bin/python\n"
   ]
  },
  {
   "cell_type": "markdown",
   "metadata": {},
   "source": [
    "## Explanation of This Command\n",
    "\n",
    "In some Linux distributions, especially newer versions of Ubuntu, the `python` command may not be configured to point to Python 3. This is because many newer distributions have opted not to include a default executable named `python`, as Python 2 is deprecated, and Python 3 has become the standard. Instead, the default executable is named `python3`.\n",
    "\n",
    "However, many scripts and tools still use the command `python`, assuming it points to a version of Python (now generally Python 3). By creating a symbolic link, you ensure that any command using `python` will work as expected, executing Python 3.\n",
    "\n",
    "---\n",
    "\n",
    "## How to Verify the Installation\n",
    "\n",
    "To confirm that Python 3 was installed correctly, use the following command:\n",
    "\n",
    "```bash\n",
    "python --version\n"
   ]
  },
  {
   "cell_type": "markdown",
   "metadata": {},
   "source": [
    "## Step 5: Install Unzip\n",
    "\n",
    "### **What is this, and why is it important?**\n",
    "\n",
    "`Unzip` is a tool used to extract compressed files. Since we will be installing GATK, which often comes in a compressed format even when downloaded via command line, having `unzip` installed ensures that we can extract it smoothly.\n",
    "\n",
    "<span style=\"color:yellow\">**This step prepares your system to handle compressed files, such as those needed for GATK installation.**</span>\n",
    "\n",
    "---\n",
    "\n",
    "To install `unzip`, use the following command:\n",
    "\n",
    "```bash\n",
    "sudo apt install unzip\n"
   ]
  },
  {
   "cell_type": "markdown",
   "metadata": {},
   "source": [
    "## Step 6: Install GATK\n",
    "\n",
    "### **Downloading the GATK Software**\n",
    "\n",
    "To install GATK, simply use the command below:\n",
    "\n",
    "```bash\n",
    "wget https://github.com/broadinstitute/gatk/releases/download/4.2.0.0/gatk-4.2.0.0.zip\n"
   ]
  },
  {
   "cell_type": "markdown",
   "metadata": {},
   "source": [
    "<span style=\"color:yellow\">Note: This command is standardized for installing GATK version 4.2.0.0.</span>"
   ]
  },
  {
   "cell_type": "markdown",
   "metadata": {},
   "source": [
    "## Step 6: Unzip the Downloaded File\n",
    "\n",
    "### **What is this, and why is it important?**\n",
    "\n",
    "After downloading GATK, you’ll need to extract the files from the compressed archive to access the installation and usage files.\n",
    "\n",
    "To unzip the GATK package, use the command below:\n",
    "\n",
    "```bash\n",
    "unzip gatk-4.2.0.0.zip\n",
    "\n",
    "\n"
   ]
  },
  {
   "cell_type": "markdown",
   "metadata": {},
   "source": [
    "## Step 7: Make GATK Permanently Accessible\n",
    "\n",
    "### **What is this, and why is it important?**\n",
    "\n",
    "The goal here is to ensure that the `gatk` command can be run from any directory on your system every time you open the terminal, without needing to set the PATH manually each time. This is done by adding GATK’s path to the PATH environment variable permanently in the `~/.bashrc` file, which loads these settings whenever the terminal starts.\n",
    "\n",
    "### **Steps to Add GATK to PATH Permanently**\n",
    "\n",
    "1. Navigate to the folder created by extracting the GATK file, which is likely named `gatk-4.2.0.0`. You can move into this folder with the `cd` command.\n",
    "\n",
    "2. Run the following command to add GATK to your PATH permanently:\n",
    "\n",
    "   ```bash\n",
    "   echo 'export PATH=$PATH:/home/yourusername/GATK/gatk-4.2.0.0' >> ~/.bashrc\n"
   ]
  },
  {
   "cell_type": "markdown",
   "metadata": {},
   "source": [
    "### **Explanation of This Command**\n",
    "\n",
    "- **`echo 'export PATH=$PATH:/home/yourusername/GATK/gatk-4.2.0.0'`**: Generates the line we want to add to the `~/.bashrc` file, which updates the PATH variable to include the GATK directory.\n",
    "\n",
    "- **`>> ~/.bashrc`**: Appends this line to the end of the `~/.bashrc` file, making the GATK directory accessible permanently in any new terminal session.\n",
    "\n",
    "<span style=\"color:yellow\">**Note:** This command is standardized for the path `/home/yourusername/GATK/gatk-4.2.0.0`. For other installations, be sure to replace this with the correct path to the GATK directory on your system.</span>\n",
    "\n",
    "---\n",
    "\n",
    "### **Applying Changes Immediately**\n",
    "\n",
    "To make these changes effective right away, without needing to restart Ubuntu, use the following command:\n",
    "\n",
    "```bash\n",
    "source ~/.bashrc\n"
   ]
  },
  {
   "cell_type": "markdown",
   "metadata": {},
   "source": [
    "### Verify GATK Installation\n",
    "\n",
    "To ensure GATK was installed correctly, use the following command. If the installation was successful, you will see detailed information about the GATK tool.\n",
    "\n",
    "```bash\n",
    "gatk --help\n"
   ]
  }
 ],
 "metadata": {
  "language_info": {
   "name": "python"
  }
 },
 "nbformat": 4,
 "nbformat_minor": 2
}
