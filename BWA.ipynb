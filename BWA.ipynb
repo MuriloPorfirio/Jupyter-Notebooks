{
 "cells": [
  {
   "cell_type": "markdown",
   "metadata": {},
   "source": [
    "The **GATK** was developed to provide tools for variant analysis. Therefore, it does not perform the alignment of a FASTQ file; for this, we need to use the **BWA** tool on the FASTQ file that we have.\n",
    "\n",
    "The **Burrows-Wheeler Aligner** is a tool that can be installed on **Ubuntu**. To check if it is already installed, simply type:\n",
    "\n",
    "```bash\n",
    "bwa\n"
   ]
  },
  {
   "cell_type": "markdown",
   "metadata": {},
   "source": [
    "If it’s not installed and we want to install it, we can use the following commands:\n",
    "\n",
    "```bash\n",
    "sudo apt update\n",
    "sudo apt install bwa\n"
   ]
  },
  {
   "cell_type": "markdown",
   "metadata": {},
   "source": [
    "**Tip:** It’s generally a good idea to perform everything via command lines in the **Linux shell**. However, if your file is on **Windows**, such as in a folder on the desktop, you can transfer this file to the Linux partition or even make a copy — all interactively, without necessarily using command lines.\n",
    "\n",
    "To access Linux folders from Windows, simply open any Windows folder and type the following in the address bar:\n",
    "\n",
    "```plaintext\n",
    "\\\\wsl$"
   ]
  },
  {
   "cell_type": "markdown",
   "metadata": {},
   "source": [
    "You will be directed to the Ubuntu folder, where you can find all the directories you have on Linux. This way, you can visually and interactively locate the folder where you want to place the FASTQ file."
   ]
  },
  {
   "cell_type": "markdown",
   "metadata": {},
   "source": [
    "From here, we can return to **Ubuntu**, switch to the command line, and navigate to the directory where our **FASTQ file** is located. Another important note is that to use **BWA**, we need a reference genome in the **.fasta** format.\n",
    "\n",
    "To download one of the main reference genomes, you can use the following command:\n",
    "\n",
    "```bash\n",
    "wget ftp://ftp.ensembl.org/pub/release-104/fasta/homo_sapiens/dna/Homo_sapiens.GRCh38.dna.primary_assembly.fa.gz\n"
   ]
  },
  {
   "cell_type": "markdown",
   "metadata": {},
   "source": [
    "With the reference file and the **FASTQ** file in the same folder (where we should also be positioned), we can proceed with the first **BWA** command.\n",
    "\n",
    "Before we apply **BWA**, however, we need to perform what’s called **\"indexing the reference genome\"**. This involves running a command that instructs **BWA** to create multiple smaller files from the reference file. This indexing process significantly speeds up the alignment, as it allows the tool to work with smaller segments of the file at a time instead of scanning through the entire file. \n",
    "\n",
    "For each reference genome, you only need to apply the following command once:\n",
    "\n",
    "```bash\n",
    "bwa index Reference_File_Name\n"
   ]
  },
  {
   "cell_type": "markdown",
   "metadata": {},
   "source": [
    "<span style=\"color:red;\">**ATTENTION:**</span> <span style=\"color:red;\">This process can take a while, depending on your computer's performance. It also generates additional large files, between **5–7 GB**, so be prepared for the extra storage requirements.</span>\n"
   ]
  },
  {
   "cell_type": "markdown",
   "metadata": {},
   "source": [
    "# Report\n",
    "\n",
    "## Background\n",
    "\n",
    "While trying to apply indexing on my computer, I encountered a memory issue. Although I had plenty of memory available, I still lacked sufficient RAM (I have 8 GB), causing the process to stop. To resolve this, we decided to transfer the file to a server, even though it was a server without a GPU or graphics card, as it has substantial RAM.\n",
    "\n",
    "## Solution Approach\n",
    "\n",
    "To avoid disrupting other server users, I was advised to execute everything within a Docker container. Consequently, we contacted the server administrator to install Docker on the server and grant me the necessary permissions to make installations.\n",
    "\n",
    "## Implementation Steps\n",
    "\n",
    "Once Docker was set up, the process became feasible. The first step was to install the required Docker image. We chose the `pegi3s/bwa` image using the following command (executed on the server):\n",
    "\n",
    "```bash\n",
    "docker pull pegi3s/bwa\n"
   ]
  },
  {
   "cell_type": "markdown",
   "metadata": {},
   "source": [
    "# Verification of Installation\n",
    "\n",
    "After completing the installation, we can verify if it was successful by running the following command:\n",
    "\n",
    "```bash\n",
    "docker run --rm pegi3s/bwa bwa"
   ]
  },
  {
   "cell_type": "markdown",
   "metadata": {},
   "source": [
    "# Important Configuration Details\n",
    "\n",
    "At the time of performing this procedure, **BWA** was configured with the following specifications:\n",
    "\n",
    "- **Program**: bwa (alignment via Burrows-Wheeler transformation)\n",
    "- **Version**: 0.7.17-r1188\n",
    "- **Contact**: Heng Li (<lh3@sanger.ac.uk>)\n",
    "\n",
    "## Indexing Command\n",
    "\n",
    "Now, we can proceed with the indexing step using the following command:\n",
    "\n",
    "```bash\n",
    "docker run --rm -v \"/home/murilo.aguiar/NGS_Files:/data\" pegi3s/bwa bwa index /data/GRCh38.fa"
   ]
  },
  {
   "cell_type": "markdown",
   "metadata": {},
   "source": [
    "# Generated Files from Indexing\n",
    "\n",
    "The following files were created during the indexing process:\n",
    "\n",
    "- **GRCh38.fa.amb**\n",
    "- **GRCh38.fa.ann**\n",
    "- **GRCh38.fa.bwt**\n",
    "- **GRCh38.fa.pac**\n",
    "- **GRCh38.fa.sa**\n",
    "\n",
    "These files are essential outputs of the indexing step and will be used in subsequent analysis stages."
   ]
  }
 ],
 "metadata": {
  "language_info": {
   "name": "python"
  }
 },
 "nbformat": 4,
 "nbformat_minor": 2
}
