{
 "cells": [
  {
   "attachments": {},
   "cell_type": "markdown",
   "id": "051562db-3ddf-4ad2-9fa8-9eafc0823f23",
   "metadata": {},
   "source": [
    "# Jupyter lab (6th August 2024)\n",
    "\n",
    "This is my firt jupyter notebook\n",
    "\n",
    "I'm gonna try to explain what I have been learning\n",
    "\n",
    "and I hope I learn more while I keep creating this notebook\n",
    "\n",
    "also I practice my english\n",
    "\n",
    "### first of all\n",
    "\n",
    "Jupyter lab is a platform that you can use on your browser.\n",
    "\n",
    "With jupyter lab you can create \"jupyter notebook\", It's like a word mixed with programming language.\n",
    "\n",
    "It's able to code specially \"markdown\" and \"python\", but I know you can use another languages too.\n",
    "\n",
    "So you can write something and also put python codes on it, maybe to create a chart, a plot, an animation, whatever output you want. \n",
    "\n",
    "### but it is not that simple\n",
    "\n",
    "To use Jupyter you need firt to install it, and you can not simply donwload it, you need to install it by prompt command.\n",
    "So open your prompt command and write **\"pip install jupyterlab\"**, than after you install it you can simply iniciate the program typing **\"jupyter lab\"**. It's gonna open any of your browsers.\n",
    "\n",
    "### well\n",
    "\n",
    "Now you can see the Jupyter Lab, you can see your archieves and folders bu the left, and create notebooks by the right.\n",
    "\n",
    "When you create a notebook you will always have the possibility to put cell boxes to write: A markdown box our a code box. Normally the code box run code written in python.\n",
    "\n",
    "#### Attention!\n",
    "\n",
    "It doesnt save automaticcaly, so be careful. Also your notebook is not on a cloud, so you can not acess your jupyter notebook in another computer in the first time. There are many ways to do it, but in my opinion, thats not that easy.\n",
    "\n",
    "What I am doing in the beggining is to write my notebook, than download it and upload on github. I am not sure, but I believe I can download this archieve in the github after that and than upload on python lab again.\n",
    "\n",
    "#What I learn untill now\n",
    "\n",
    "You can put images on your notebook, and you can do it using a Markdown cell, not necesserely a code cell. I am not sure, but I believe if you upload the image by your computer, you wont be able to open this image in another computer, because the adress of your image will be unicly in your computer. \n",
    "\n",
    "So a good way is to use a online image. To do it, first find the image and copy its adress. \n",
    "Thats the command you use in markdown to show a image:\n",
    "\n",
    "```<img src=\"https://upload.wikimedia.org/wikipedia/commons/2/24/Pygoscelis_adeliae.jpg\" alt=\"Alt Text\" style=\"width:130px;height:200px;\">```\n",
    "\n",
    "Note: You can not see the image even if you run the code because I put this code between \"```\", it makes the code become a string. But if you remove this sign you will see a image of a pinguin.\n"
   ]
  },
  {
   "cell_type": "code",
   "execution_count": null,
   "id": "87823ec7-2e49-4c35-8226-ccac9ef51c37",
   "metadata": {},
   "outputs": [],
   "source": []
  }
 ],
 "metadata": {
  "kernelspec": {
   "display_name": "Python 3 (ipykernel)",
   "language": "python",
   "name": "python3"
  },
  "language_info": {
   "codemirror_mode": {
    "name": "ipython",
    "version": 3
   },
   "file_extension": ".py",
   "mimetype": "text/x-python",
   "name": "python",
   "nbconvert_exporter": "python",
   "pygments_lexer": "ipython3",
   "version": "3.12.1"
  }
 },
 "nbformat": 4,
 "nbformat_minor": 5
}
