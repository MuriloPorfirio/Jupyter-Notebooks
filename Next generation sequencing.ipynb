{
 "cells": [
  {
   "cell_type": "markdown",
   "metadata": {
    "vscode": {
     "languageId": "latex"
    }
   },
   "source": [
    "<div style=\"text-align: center;\"> \n",
    "\n",
    "# **Next-generation sequencing** (12th August 2024)\n",
    "\n",
    "</h1> </div>\n",
    "\n"
   ]
  },
  {
   "cell_type": "markdown",
   "metadata": {},
   "source": [
    "This is my second Jupyter Notebook, where I intend to explain how Next-generation sequencing (NGS) works as a laboratory technique. In future notebooks, I will explain how to process the resulting files, called FASTQ.\n",
    "\n",
    "Unlike traditional sequencing methods, which analyze DNA sequences one at a time, NGS processes millions of sequences simultaneously, making it highly efficient and cost-effective.\n",
    "\n",
    "NGS is a category of laboratory techniques, which means that <span style=\"color: yellow;\">**there are different ways to perform NGS**</span>. The main methodologies are as follows:\n",
    "\n",
    "<span style=\"color: yellow;\">**Illumina (Sequencing by Synthesis - SBS):** </span> Briefly, extracted DNA is fragmented and subjected to what we call adapters, which are molecules that attach to the ends of each DNA fragment. After preparing this solution, the sample is introduced into a flow cell, a surface with thousands of fixed oligonucleotides designed to bind to the adapters on each fragment. In the flow cell, bridge amplification occurs, where DNA fragments are copied multiple times, creating clusters of identical DNA. During the synthesis of new copies, nucleotides labeled with fluorophores are incorporated, and the light emission from each incorporation is detected by the Illumina NGS machine, allowing the DNA sequence to be read.\n",
    "\n",
    "<div style=\"text-align: center;\"> \n",
    "\n",
    "![Alt Text](https://i.makeagif.com/media/2-26-2019/HN2cTo.gif)</div>\n",
    "\n",
    "<span style=\"color: yellow;\"> **Oxford Nanopore (Nanopore Sequencing):**</span> The Nanopore technique is quite different from Illumina and very interesting: The DNA samples used in this technique do not necessarily need to be fragmented, but they still need to be prepared with adapters and motor proteins, which bind to the ends of the DNA strand. The adapters ensure that the end of the DNA correctly attaches to the motor proteins. After preparing the samples, the DNA is placed in a flow cell, where the DNA strands are guided into the nanopores by the action of the motor proteins. These proteins unwind the DNA strand and guide it through the nanopore, one nucleotide at a time. As each nucleotide passes through the nanopore, it causes a specific change in the electrical current, allowing the machine to identify the DNA sequence based on the characteristic electrical patterns of each nucleotide.\n",
    "\n",
    "<div style=\"text-align: center;\">\n",
    "\n",
    " ![Alt Text](https://i.makeagif.com/media/5-08-2017/DcVNX6.gif)</div>\n",
    "\n",
    "\n",
    "<span style=\"color: yellow;\"> **Ion Torrent (Semiconductor Sequencing - by ThermoFisher):** </span> In summary, in this technique, the extracted DNA samples are treated to come into contact with adapters. These adapted DNA fragments are then introduced into a solution with beads (spheres), which allow only a single DNA fragment to attach to each one. The beads, now with attached DNA fragments, undergo an emulsion PCR amplification process, creating thousands of identical copies of each fragment around each bead. These beads are then introduced into a chip (it is not common to call it a flow cell). This chip contains hundreds of wells, each capable of holding a single bead. After the beads are seated in the wells, the chip is placed in the ThermoFisher machine, which introduces a solution containing a single type of nucleotide into all the wells simultaneously. When a nucleotide, such as adenine, binds to a complementary thymine on the DNA fragment attached to the bead, a hydrogen ion is released, changing the pH of the solution surrounding the bead. This pH change is detected by the machine, identifying the presence of the complementary nucleotide. The process is repeated for each type of nucleotide, allowing the complete genotyping of the sample.\n",
    "\n",
    "<div style=\"text-align: center;\">\n",
    "\n",
    "![Alt Text](https://i.makeagif.com/media/5-14-2017/xumLsf.gif) </div>"
   ]
  },
  {
   "cell_type": "markdown",
   "metadata": {},
   "source": [
    "All three techniques described generate a file called FASTQ. This is a text file that organizes the patient's DNA in the following way: Each identified DNA sequence, or each fragment, will have **4 lines dedicated to it**.\n",
    "\n",
    "<span style=\"color: yellow;\">**The first line**</span> starts with \"@,\" and contains information such as: Read Number (paired-end), Cluster Number (location on the flow cell), Sequencing Cycle Number (reading cycle), Sample Information (barcode), Technical Information (lane, tile, coordinates).\n",
    "\n",
    "In other words, in a context where we aim for a \"450x\" target coverage, we will have 450 \"entries\" for the same specific fragment, where each entry will have 450 lines. The first line will never be identical to any other.\n",
    "\n",
    "<span style=\"color: yellow;\">**The second line**</span> is where the nucleotide sequencing (A, T, C, G) is found, extending almost infinitely throughout the file.\n",
    "\n",
    "<span style=\"color: yellow;\">**The third line**</span> is usually blank, with only the \"+\" symbol as a requirement. In rarer cases, besides the \"+\" symbol, there is also a repetition of the information from line 1. Theoretically, it is just a line to separate the sequencing information (line 2) from the quality control information (line 4).\n",
    "\n",
    "<span style=\"color: yellow;\">**The fourth and final line**</span> is related to quality control, where for each nucleotide in line 2, there will be a corresponding symbol in line 4 to express the percentage chance that the nucleotide was read accurately. These characters in the quality control line are called \"ASCII symbols,\" and each one represents a percentage of accuracy. Here is the list:\n",
    "\n",
    "ASCII / Precision (%)\n",
    "```\n",
    "!\t0%\n",
    "\"\t50%\n",
    "#\t63%\n",
    "$\t75%\n",
    "%\t80%\n",
    "&\t84%\n",
    "'\t88%\n",
    "(\t90%\n",
    ")\t94%\n",
    "*\t95%\n",
    "+\t90%\n",
    ",\t92.1%\n",
    "-\t93.7%\n",
    ".\t95%\n",
    "/\t96%\n",
    "0\t96.8%\n",
    "1\t97.4%\n",
    "2\t98%\n",
    "3\t98.4%\n",
    "4\t98.7%\n",
    "5\t99%\n",
    "6\t99.2%\n",
    "7\t99.4%\n",
    "8\t99.5%\n",
    "9\t99.6%\n",
    ":\t99.7%\n",
    ";\t99.75%\n",
    "<\t99.8%\n",
    "=\t99.84%\n",
    ">\t99.87%\n",
    "?\t99.9%\n",
    "@\t99.92%\n",
    "A\t99.937%\n",
    "B\t99.95%\n",
    "C\t99.96%\n",
    "D\t99.97%\n",
    "E\t99.975%\n",
    "F\t99.98%\n",
    "G\t99.984%\n",
    "H\t99.987%\n",
    "I\t99.99%\n",
    "\n",
    "```\n",
    "\n",
    "(13th August 2024)\n",
    "\n",
    "All of these percentages are derived from a mathematical calculation called the **'Phred Score,'** which the NGS machine itself performs, providing us with the result in ASCII characters directly in the FASTQ file.\n",
    "\n",
    "Example of an entry in a FASTQ file:\n",
    "\n",
    "<div style=\"text-align: center;\"><img src=\"https://compgenomr.github.io/book/images/fastqPic.png\" alt=\"Alt Text\" style=\"width:650px;height:200px;\"></div>\n",
    "\n",
    "\n",
    "\n"
   ]
  },
  {
   "cell_type": "markdown",
   "metadata": {},
   "source": [
    "<span style=\"color: red;\">**Notes:**</span> \n",
    "\n",
    "**1-** Although all these methodologies generate FASTQ files, it's important to consider that if each entry in a FASTQ file corresponds to a fragment, it's common for the size of these fragments to vary significantly when comparing FASTQ files from different methodologies. For example, nanopore-based NGS doesn't always fragment the DNA, resulting in some entries being considerably larger than those produced by other NGS techniques, such as Illumina.\n",
    "\n",
    "**2-** NGS files are often very large, sometimes exceeding 1 terabyte in size, which requires high-performance servers to process them, even though it may still take days. In other words, processing such files requires specialized computational infrastructure, commonly referred to as 'servers'.\n",
    "\n",
    "**3-** The size of the files is also influenced by what is known as <span style=\"color: yellow;\">'target coverage'</span>, which refers to the number of times an NGS machine is programmed to repeatedly read all the genetic features of interest. Typically, a coverage of 100x or more is used to generate data suitable for scientific publications. Therefore, the higher the target coverage, the more times a single DNA fragment is read, and each additional read generates a new entry in the FASTQ file, making it progressively larger and heavier."
   ]
  },
  {
   "cell_type": "markdown",
   "metadata": {},
   "source": [
    "<div style=\"text-align: center;\"> \n",
    "\n",
    "### (23th August 2024)\n",
    "<span style=\"color: yellow;\">**FASTQ is not everything**</span>\n",
    "\n",
    " </h1> </div>\n",
    "\n",
    "\n",
    "Although I initially mentioned in the Jupyter notebook that NGS methodologies immediately generate FASTQ files, this is not always the case. For instance, most Illumina equipment first produces files in the <span style=\"color: yellow;\"> **.BCL (Base Call Files) format** </span>, which can then be converted to FASTQ through a process known as <span style=\"color: yellow;\"> **demultiplexing** </span>, typically performed by Illumina's own software.\n",
    "\n",
    "Another important point to note is that\n",
    "\n",
    "<span style=\"color: red;\">**THE NANOPORE TECHNIQUE ALSO GENERATES METHYLATION DATA**</span>\n",
    " \n",
    "This occurs because when a methylated cytosine passes through the nanopore, it produces a different signal compared to a regular cytosine. This information is captured in the nanopore file format, which is distinct because FASTQ files only contain nucleotide sequences like 'ATGC' and do not include methylation data. Therefore, in nanopore sequencing, the file preceding the FASTQ format is called <span style=\"color: yellow;\"> **.FAST5**</span> or <span style=\"color: yellow;\">**.POD5** </span>. The POD5 format was introduced more recently to replace FAST5."
   ]
  }
 ],
 "metadata": {
  "language_info": {
   "name": "python"
  }
 },
 "nbformat": 4,
 "nbformat_minor": 2
}
